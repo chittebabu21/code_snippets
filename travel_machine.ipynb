{
  "nbformat": 4,
  "nbformat_minor": 0,
  "metadata": {
    "colab": {
      "provenance": [],
      "collapsed_sections": []
    },
    "kernelspec": {
      "name": "python3",
      "display_name": "Python 3"
    },
    "language_info": {
      "name": "python"
    }
  },
  "cells": [
    {
      "cell_type": "markdown",
      "source": [
        "##Teleport yourself to anywhere in the world!!!"
      ],
      "metadata": {
        "id": "0ovs3WMFe7Ux"
      }
    },
    {
      "cell_type": "code",
      "execution_count": 1,
      "metadata": {
        "id": "HE5QIN3Aehyu"
      },
      "outputs": [],
      "source": [
        "import time"
      ]
    },
    {
      "cell_type": "code",
      "source": [
        "def countdown():\n",
        "  countdown = 10\n",
        "  destination = input(\"Enter your destination: \")\n",
        "  while countdown:\n",
        "    print(f\"Teleporting in progress! Stay calm.\")\n",
        "    print(\"{:02d}\".format(countdown, end=\"\\r\"))\n",
        "    time.sleep(1)\n",
        "    countdown -= 1\n",
        "  print(f\"You are now in {destination}!!!\")"
      ],
      "metadata": {
        "id": "PvJk-8p4eu-l"
      },
      "execution_count": 2,
      "outputs": []
    },
    {
      "cell_type": "code",
      "source": [
        "countdown()"
      ],
      "metadata": {
        "colab": {
          "base_uri": "https://localhost:8080/"
        },
        "id": "Cs4JjKcyNcPs",
        "outputId": "6b6d917c-1ae0-409a-ae7b-0e49b8c90b03"
      },
      "execution_count": 3,
      "outputs": [
        {
          "output_type": "stream",
          "name": "stdout",
          "text": [
            "Enter your destination: Seoul\n",
            "Teleporting in progress! Stay calm.\n",
            "10\n",
            "Teleporting in progress! Stay calm.\n",
            "09\n",
            "Teleporting in progress! Stay calm.\n",
            "08\n",
            "Teleporting in progress! Stay calm.\n",
            "07\n",
            "Teleporting in progress! Stay calm.\n",
            "06\n",
            "Teleporting in progress! Stay calm.\n",
            "05\n",
            "Teleporting in progress! Stay calm.\n",
            "04\n",
            "Teleporting in progress! Stay calm.\n",
            "03\n",
            "Teleporting in progress! Stay calm.\n",
            "02\n",
            "Teleporting in progress! Stay calm.\n",
            "01\n",
            "You are now in Seoul!!!\n"
          ]
        }
      ]
    },
    {
      "cell_type": "code",
      "source": [],
      "metadata": {
        "id": "q8bISi9xz4tG"
      },
      "execution_count": null,
      "outputs": []
    }
  ]
}